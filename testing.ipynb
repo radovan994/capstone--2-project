{
 "cells": [
  {
   "cell_type": "code",
   "execution_count": 1,
   "id": "37bb76e8-d432-4412-805b-bd73d84604d7",
   "metadata": {
    "execution": {
     "iopub.execute_input": "2025-01-27T22:34:37.578271Z",
     "iopub.status.busy": "2025-01-27T22:34:37.577942Z",
     "iopub.status.idle": "2025-01-27T22:34:46.649479Z",
     "shell.execute_reply": "2025-01-27T22:34:46.648936Z",
     "shell.execute_reply.started": "2025-01-27T22:34:37.578249Z"
    }
   },
   "outputs": [
    {
     "name": "stderr",
     "output_type": "stream",
     "text": [
      "2025-01-27 22:34:37.928223: I tensorflow/core/util/port.cc:153] oneDNN custom operations are on. You may see slightly different numerical results due to floating-point round-off errors from different computation orders. To turn them off, set the environment variable `TF_ENABLE_ONEDNN_OPTS=0`.\n",
      "2025-01-27 22:34:37.944391: E external/local_xla/xla/stream_executor/cuda/cuda_fft.cc:477] Unable to register cuFFT factory: Attempting to register factory for plugin cuFFT when one has already been registered\n",
      "WARNING: All log messages before absl::InitializeLog() is called are written to STDERR\n",
      "E0000 00:00:1738017277.964531     655 cuda_dnn.cc:8310] Unable to register cuDNN factory: Attempting to register factory for plugin cuDNN when one has already been registered\n",
      "E0000 00:00:1738017277.970602     655 cuda_blas.cc:1418] Unable to register cuBLAS factory: Attempting to register factory for plugin cuBLAS when one has already been registered\n",
      "2025-01-27 22:34:37.990223: I tensorflow/core/platform/cpu_feature_guard.cc:210] This TensorFlow binary is optimized to use available CPU instructions in performance-critical operations.\n",
      "To enable the following instructions: AVX2 AVX512F AVX512_VNNI FMA, in other operations, rebuild TensorFlow with the appropriate compiler flags.\n"
     ]
    }
   ],
   "source": [
    "import tensorflow as tf\n",
    "from tensorflow import keras\n",
    "from tensorflow.keras.preprocessing.image import ImageDataGenerator\n",
    "from tensorflow.keras.preprocessing.image import load_img\n",
    "\n",
    "from tensorflow.keras.applications.xception import preprocess_input"
   ]
  },
  {
   "cell_type": "code",
   "execution_count": 4,
   "id": "e80e6b34-b1d1-43e7-9396-92cd47e24c40",
   "metadata": {
    "execution": {
     "iopub.execute_input": "2025-01-27T22:35:30.440765Z",
     "iopub.status.busy": "2025-01-27T22:35:30.440413Z",
     "iopub.status.idle": "2025-01-27T22:35:30.466044Z",
     "shell.execute_reply": "2025-01-27T22:35:30.465571Z",
     "shell.execute_reply.started": "2025-01-27T22:35:30.440743Z"
    }
   },
   "outputs": [
    {
     "name": "stdout",
     "output_type": "stream",
     "text": [
      "Found 269 images belonging to 27 classes.\n"
     ]
    }
   ],
   "source": [
    "test_gen = ImageDataGenerator(preprocessing_function=preprocess_input)\n",
    "\n",
    "test_ds = test_gen.flow_from_directory(\n",
    "    './capstone-project/test',\n",
    "    target_size=(299, 299),\n",
    "    batch_size=32,\n",
    "    shuffle=False\n",
    ")"
   ]
  },
  {
   "cell_type": "code",
   "execution_count": 6,
   "id": "78b255bb-1432-4ea5-a821-b72851121d52",
   "metadata": {
    "execution": {
     "iopub.execute_input": "2025-01-27T22:36:22.514907Z",
     "iopub.status.busy": "2025-01-27T22:36:22.514568Z",
     "iopub.status.idle": "2025-01-27T22:36:54.590715Z",
     "shell.execute_reply": "2025-01-27T22:36:54.590191Z",
     "shell.execute_reply.started": "2025-01-27T22:36:22.514883Z"
    }
   },
   "outputs": [
    {
     "name": "stderr",
     "output_type": "stream",
     "text": [
      "I0000 00:00:1738017382.789042     655 gpu_device.cc:2022] Created device /job:localhost/replica:0/task:0/device:GPU:0 with 13942 MB memory:  -> device: 0, name: Tesla T4, pci bus id: 0000:00:1e.0, compute capability: 7.5\n",
      "/opt/saturncloud/envs/saturn/lib/python3.12/site-packages/keras/src/trainers/data_adapters/py_dataset_adapter.py:121: UserWarning: Your `PyDataset` class should call `super().__init__(**kwargs)` in its constructor. `**kwargs` can include `workers`, `use_multiprocessing`, `max_queue_size`. Do not pass these arguments to `fit()`, as they will be ignored.\n",
      "  self._warn_if_super_not_called()\n",
      "WARNING: All log messages before absl::InitializeLog() is called are written to STDERR\n",
      "I0000 00:00:1738017390.481921     791 service.cc:148] XLA service 0x7f7600004480 initialized for platform CUDA (this does not guarantee that XLA will be used). Devices:\n",
      "I0000 00:00:1738017390.481953     791 service.cc:156]   StreamExecutor device (0): Tesla T4, Compute Capability 7.5\n",
      "2025-01-27 22:36:30.530657: I tensorflow/compiler/mlir/tensorflow/utils/dump_mlir_util.cc:268] disabling MLIR crash reproducer, set env var `MLIR_CRASH_REPRODUCER_DIRECTORY` to enable.\n",
      "I0000 00:00:1738017390.868580     791 cuda_dnn.cc:529] Loaded cuDNN version 90300\n",
      "2025-01-27 22:36:37.828181: W external/local_xla/xla/tsl/framework/bfc_allocator.cc:306] Allocator (GPU_0_bfc) ran out of memory trying to allocate 17.43GiB with freed_by_count=0. The caller indicates that this is not a failure, but this may mean that there could be performance gains if more memory were available.\n",
      "2025-01-27 22:36:40.088116: W external/local_xla/xla/service/gpu/nvptx_compiler.cc:930] The NVIDIA driver's CUDA version is 12.4 which is older than the PTX compiler version 12.5.82. Because the driver is older than the PTX compiler version, XLA is disabling parallel compilation, which may slow down compilation. You should update your NVIDIA driver or use the NVIDIA-provided CUDA forward compatibility packages.\n"
     ]
    },
    {
     "name": "stdout",
     "output_type": "stream",
     "text": [
      "\u001b[1m1/9\u001b[0m \u001b[32m━━\u001b[0m\u001b[37m━━━━━━━━━━━━━━━━━━\u001b[0m \u001b[1m1:45\u001b[0m 13s/step - accuracy: 0.9062 - loss: 0.3912"
     ]
    },
    {
     "name": "stderr",
     "output_type": "stream",
     "text": [
      "I0000 00:00:1738017400.924149     791 device_compiler.h:188] Compiled cluster using XLA!  This line is logged at most once for the lifetime of the process.\n"
     ]
    },
    {
     "name": "stdout",
     "output_type": "stream",
     "text": [
      "\u001b[1m8/9\u001b[0m \u001b[32m━━━━━━━━━━━━━━━━━\u001b[0m\u001b[37m━━━\u001b[0m \u001b[1m0s\u001b[0m 978ms/step - accuracy: 0.9466 - loss: 0.1945"
     ]
    },
    {
     "name": "stderr",
     "output_type": "stream",
     "text": [
      "2025-01-27 22:36:52.435198: W external/local_xla/xla/tsl/framework/bfc_allocator.cc:306] Allocator (GPU_0_bfc) ran out of memory trying to allocate 16.99GiB with freed_by_count=0. The caller indicates that this is not a failure, but this may mean that there could be performance gains if more memory were available.\n"
     ]
    },
    {
     "name": "stdout",
     "output_type": "stream",
     "text": [
      "\u001b[1m9/9\u001b[0m \u001b[32m━━━━━━━━━━━━━━━━━━━━\u001b[0m\u001b[37m\u001b[0m \u001b[1m27s\u001b[0m 2s/step - accuracy: 0.9506 - loss: 0.1782 \n"
     ]
    },
    {
     "data": {
      "text/plain": [
       "[0.11312122642993927, 0.9665427803993225]"
      ]
     },
     "execution_count": 6,
     "metadata": {},
     "output_type": "execute_result"
    }
   ],
   "source": [
    "model = keras.models.load_model('xception_v4_1_13_0.970.h5.keras')\n",
    "model.evaluate(test_ds)"
   ]
  },
  {
   "cell_type": "code",
   "execution_count": 13,
   "id": "06964320-9cbb-4ef1-92c6-862209c83cba",
   "metadata": {
    "execution": {
     "iopub.execute_input": "2025-01-27T22:43:14.985948Z",
     "iopub.status.busy": "2025-01-27T22:43:14.985370Z",
     "iopub.status.idle": "2025-01-27T22:43:14.999516Z",
     "shell.execute_reply": "2025-01-27T22:43:14.998966Z",
     "shell.execute_reply.started": "2025-01-27T22:43:14.985922Z"
    }
   },
   "outputs": [
    {
     "data": {
      "text/plain": [
       "(1, 299, 299, 3)"
      ]
     },
     "execution_count": 13,
     "metadata": {},
     "output_type": "execute_result"
    }
   ],
   "source": [
    "path = 'capstone-project/test/banana/Image_3.jpg'\n",
    "img = load_img(path, target_size=(299, 299))\n",
    "import numpy as np\n",
    "x = np.array(img)\n",
    "X = np.array([x])\n",
    "X.shape"
   ]
  },
  {
   "cell_type": "code",
   "execution_count": 14,
   "id": "998a42f1-6939-473b-b95a-8ee3fd8ad2cc",
   "metadata": {
    "execution": {
     "iopub.execute_input": "2025-01-27T22:43:17.713242Z",
     "iopub.status.busy": "2025-01-27T22:43:17.712919Z",
     "iopub.status.idle": "2025-01-27T22:43:17.790552Z",
     "shell.execute_reply": "2025-01-27T22:43:17.790057Z",
     "shell.execute_reply.started": "2025-01-27T22:43:17.713218Z"
    }
   },
   "outputs": [
    {
     "name": "stdout",
     "output_type": "stream",
     "text": [
      "\u001b[1m1/1\u001b[0m \u001b[32m━━━━━━━━━━━━━━━━━━━━\u001b[0m\u001b[37m\u001b[0m \u001b[1m0s\u001b[0m 40ms/step\n"
     ]
    }
   ],
   "source": [
    "X = preprocess_input(X)\n",
    "pred = model.predict(X)"
   ]
  },
  {
   "cell_type": "code",
   "execution_count": 10,
   "id": "ea5ddefe-9c11-4b84-9d82-c3e1ebf63c0c",
   "metadata": {
    "execution": {
     "iopub.execute_input": "2025-01-27T22:40:33.715679Z",
     "iopub.status.busy": "2025-01-27T22:40:33.715354Z",
     "iopub.status.idle": "2025-01-27T22:40:33.720456Z",
     "shell.execute_reply": "2025-01-27T22:40:33.719795Z",
     "shell.execute_reply.started": "2025-01-27T22:40:33.715655Z"
    }
   },
   "outputs": [
    {
     "data": {
      "text/plain": [
       "{'apple': 0,\n",
       " 'banana': 1,\n",
       " 'beetroot': 2,\n",
       " 'bell pepper': 3,\n",
       " 'cabbage': 4,\n",
       " 'capsicum': 5,\n",
       " 'carrot': 6,\n",
       " 'cauliflower': 7,\n",
       " 'corn': 8,\n",
       " 'cucumber': 9,\n",
       " 'eggplant': 10,\n",
       " 'garlic': 11,\n",
       " 'ginger': 12,\n",
       " 'grapes': 13,\n",
       " 'kiwi': 14,\n",
       " 'lemon': 15,\n",
       " 'lettuce': 16,\n",
       " 'onion': 17,\n",
       " 'orange': 18,\n",
       " 'pear': 19,\n",
       " 'peas': 20,\n",
       " 'pineapple': 21,\n",
       " 'potato': 22,\n",
       " 'spinach': 23,\n",
       " 'sweetcorn': 24,\n",
       " 'tomato': 25,\n",
       " 'watermelon': 26}"
      ]
     },
     "execution_count": 10,
     "metadata": {},
     "output_type": "execute_result"
    }
   ],
   "source": [
    "test_ds.class_indices"
   ]
  },
  {
   "cell_type": "code",
   "execution_count": 11,
   "id": "a0f8283c-88ca-4acd-8d58-77159ec3be11",
   "metadata": {
    "execution": {
     "iopub.execute_input": "2025-01-27T22:42:15.524874Z",
     "iopub.status.busy": "2025-01-27T22:42:15.524538Z",
     "iopub.status.idle": "2025-01-27T22:42:15.528553Z",
     "shell.execute_reply": "2025-01-27T22:42:15.527828Z",
     "shell.execute_reply.started": "2025-01-27T22:42:15.524855Z"
    }
   },
   "outputs": [],
   "source": [
    "classes = ['apple',\n",
    " 'banana',\n",
    " 'beetroot',\n",
    " 'bell pepper',\n",
    " 'cabbage',\n",
    " 'capsicum',\n",
    " 'carrot',\n",
    " 'cauliflower',\n",
    " 'corn',\n",
    " 'cucumber',\n",
    " 'eggplant',\n",
    " 'garlic',\n",
    " 'ginger',\n",
    " 'grapes',\n",
    " 'kiwi',\n",
    " 'lemon',\n",
    " 'lettuce',\n",
    " 'onion',\n",
    " 'orange',\n",
    " 'pear',\n",
    " 'peas',\n",
    " 'pineapple',\n",
    " 'potato',\n",
    " 'spinach',\n",
    " 'sweetcorn',\n",
    " 'tomato',\n",
    " 'watermelon']"
   ]
  },
  {
   "cell_type": "code",
   "execution_count": 16,
   "id": "a2870dc9-515a-491d-9798-a5fc4e725c77",
   "metadata": {
    "execution": {
     "iopub.execute_input": "2025-01-27T22:44:39.157900Z",
     "iopub.status.busy": "2025-01-27T22:44:39.157571Z",
     "iopub.status.idle": "2025-01-27T22:44:39.161125Z",
     "shell.execute_reply": "2025-01-27T22:44:39.160366Z",
     "shell.execute_reply.started": "2025-01-27T22:44:39.157876Z"
    }
   },
   "outputs": [],
   "source": [
    "np.set_printoptions(legacy='1.25')"
   ]
  },
  {
   "cell_type": "code",
   "execution_count": 17,
   "id": "9eb2feed-7be4-4f95-98c2-e36504a30040",
   "metadata": {
    "execution": {
     "iopub.execute_input": "2025-01-27T22:44:41.677112Z",
     "iopub.status.busy": "2025-01-27T22:44:41.676771Z",
     "iopub.status.idle": "2025-01-27T22:44:41.681733Z",
     "shell.execute_reply": "2025-01-27T22:44:41.681165Z",
     "shell.execute_reply.started": "2025-01-27T22:44:41.677092Z"
    }
   },
   "outputs": [
    {
     "data": {
      "text/plain": [
       "{'apple': -4.186001,\n",
       " 'banana': 19.426815,\n",
       " 'beetroot': -4.634092,\n",
       " 'bell pepper': -13.032402,\n",
       " 'cabbage': -5.3791847,\n",
       " 'capsicum': -4.1936026,\n",
       " 'carrot': -3.8351326,\n",
       " 'cauliflower': -9.125385,\n",
       " 'corn': -6.448767,\n",
       " 'cucumber': -8.32443,\n",
       " 'eggplant': 0.13444889,\n",
       " 'garlic': -4.6286116,\n",
       " 'ginger': -4.433059,\n",
       " 'grapes': -3.828567,\n",
       " 'kiwi': 0.074245125,\n",
       " 'lemon': -6.7851706,\n",
       " 'lettuce': -8.952727,\n",
       " 'onion': -1.5136641,\n",
       " 'orange': 0.18659905,\n",
       " 'pear': 0.8503564,\n",
       " 'peas': -2.7963724,\n",
       " 'pineapple': -1.7881267,\n",
       " 'potato': 3.1273766,\n",
       " 'spinach': -7.7668858,\n",
       " 'sweetcorn': -6.2848296,\n",
       " 'tomato': -5.5096273,\n",
       " 'watermelon': -4.0395813}"
      ]
     },
     "execution_count": 17,
     "metadata": {},
     "output_type": "execute_result"
    }
   ],
   "source": [
    "dict(zip(classes, pred[0]))"
   ]
  },
  {
   "cell_type": "code",
   "execution_count": null,
   "id": "ab28e2f0-2236-4fab-9697-a222be7ee8f1",
   "metadata": {},
   "outputs": [],
   "source": []
  }
 ],
 "metadata": {
  "kernelspec": {
   "display_name": "saturn (Python 3)",
   "language": "python",
   "name": "python3"
  },
  "language_info": {
   "codemirror_mode": {
    "name": "ipython",
    "version": 3
   },
   "file_extension": ".py",
   "mimetype": "text/x-python",
   "name": "python",
   "nbconvert_exporter": "python",
   "pygments_lexer": "ipython3",
   "version": "3.12.7"
  }
 },
 "nbformat": 4,
 "nbformat_minor": 5
}
