{
 "cells": [
  {
   "cell_type": "code",
   "execution_count": 4,
   "metadata": {},
   "outputs": [],
   "source": [
    "import tensorflow as tf\n",
    "from tensorflow import keras"
   ]
  },
  {
   "cell_type": "code",
   "execution_count": 12,
   "metadata": {},
   "outputs": [
    {
     "data": {
      "text/plain": [
       "{'apple': -2.3391774,\n",
       " 'banana': -2.685519,\n",
       " 'beetroot': -2.2065637,\n",
       " 'bell pepper': -7.6030974,\n",
       " 'cabbage': -3.993141,\n",
       " 'capsicum': -3.817659,\n",
       " 'carrot': -3.0822241,\n",
       " 'cauliflower': -3.9719045,\n",
       " 'corn': 1.6623985,\n",
       " 'cucumber': -4.4027042,\n",
       " 'eggplant': -4.5001507,\n",
       " 'garlic': -2.4204688,\n",
       " 'ginger': -1.3011683,\n",
       " 'grapes': -4.634839,\n",
       " 'kiwi': -0.11772782,\n",
       " 'lemon': -2.9132614,\n",
       " 'lettuce': -8.813218,\n",
       " 'onion': -4.972193,\n",
       " 'orange': 2.256527,\n",
       " 'pear': -1.4413965,\n",
       " 'peas': -6.65658,\n",
       " 'pineapple': 14.829745,\n",
       " 'potato': -1.7169647,\n",
       " 'spinach': -3.9696777,\n",
       " 'sweetcorn': -4.4152236,\n",
       " 'tomato': -2.3190305,\n",
       " 'watermelon': -0.19895646}"
      ]
     },
     "execution_count": 12,
     "metadata": {},
     "output_type": "execute_result"
    }
   ],
   "source": [
    "import tensorflow.lite as tflite\n",
    "from keras_image_helper import create_preprocessor\n",
    " \n",
    "interpreter = tflite.Interpreter(model_path='fruit-model.tflite')\n",
    "interpreter.allocate_tensors()\n",
    " \n",
    "input_index = interpreter.get_input_details()[0]['index']\n",
    "output_index = interpreter.get_output_details()[0]['index']\n",
    " \n",
    "preprocessor = create_preprocessor('xception', target_size=(299, 299))\n",
    " \n",
    "url = 'https://cdn.nyallergy.com/wp-content/uploads/pineapplenew3.webp'\n",
    "X = preprocessor.from_url(url)\n",
    " \n",
    "interpreter.set_tensor(input_index, X)\n",
    "interpreter.invoke()\n",
    "preds = interpreter.get_tensor(output_index)\n",
    " \n",
    "classes = ['apple',\n",
    " 'banana',\n",
    " 'beetroot',\n",
    " 'bell pepper',\n",
    " 'cabbage',\n",
    " 'capsicum',\n",
    " 'carrot',\n",
    " 'cauliflower',\n",
    " 'corn',\n",
    " 'cucumber',\n",
    " 'eggplant',\n",
    " 'garlic',\n",
    " 'ginger',\n",
    " 'grapes',\n",
    " 'kiwi',\n",
    " 'lemon',\n",
    " 'lettuce',\n",
    " 'onion',\n",
    " 'orange',\n",
    " 'pear',\n",
    " 'peas',\n",
    " 'pineapple',\n",
    " 'potato',\n",
    " 'spinach',\n",
    " 'sweetcorn',\n",
    " 'tomato',\n",
    " 'watermelon']\n",
    " \n",
    "dict(zip(classes, preds[0]))"
   ]
  },
  {
   "cell_type": "code",
   "execution_count": null,
   "metadata": {},
   "outputs": [],
   "source": []
  }
 ],
 "metadata": {
  "kernelspec": {
   "display_name": "zoomcamp",
   "language": "python",
   "name": "python3"
  },
  "language_info": {
   "codemirror_mode": {
    "name": "ipython",
    "version": 3
   },
   "file_extension": ".py",
   "mimetype": "text/x-python",
   "name": "python",
   "nbconvert_exporter": "python",
   "pygments_lexer": "ipython3",
   "version": "3.9.18"
  }
 },
 "nbformat": 4,
 "nbformat_minor": 2
}
